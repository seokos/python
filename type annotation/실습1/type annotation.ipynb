{
 "cells": [
  {
   "cell_type": "markdown",
   "metadata": {},
   "source": [
    "### 1. 기본 사용\n",
    "- 어노테이션 타입 -> 정수 : int, 문자열 : str, 리스트 : list, 튜플 : tuple, 딕셔너리 : dict, 집합 : set, 불 : bool\n",
    "- 변수\n",
    "    - 변수명 바로 뒤에 : int와 같이 사용하여 num 변수가 int형임을 명시한다."
   ]
  },
  {
   "cell_type": "code",
   "execution_count": 5,
   "metadata": {},
   "outputs": [
    {
     "data": {
      "text/plain": [
       "int"
      ]
     },
     "execution_count": 5,
     "metadata": {},
     "output_type": "execute_result"
    }
   ],
   "source": [
    "num: int = 1\n",
    "type(num)"
   ]
  },
  {
   "cell_type": "markdown",
   "metadata": {},
   "source": [
    "- 함수\n",
    "    - 함수의 매개변수에도 같은 규칙을 적용하여 매개변수의 타입을 명시할 수 있고\n",
    "    - 함수의 반환값에는 \"-> 타입\" 처럼 사용하여 반환값의 타입을 명시 할수 있다."
   ]
  },
  {
   "cell_type": "code",
   "execution_count": 7,
   "metadata": {},
   "outputs": [
    {
     "data": {
      "text/plain": [
       "int"
      ]
     },
     "execution_count": 7,
     "metadata": {},
     "output_type": "execute_result"
    }
   ],
   "source": [
    "def add(a: int, b: int) -> int:\n",
    "    return a+b\n",
    "\n",
    "sum_ = add(1,2)\n",
    "type(sum_)"
   ]
  },
  {
   "cell_type": "markdown",
   "metadata": {},
   "source": [
    "### 2. mypy\n",
    "- 파이썬의 어노테이션은 타입 확인용으로만 사용된다. 예시1을 보면 type 에러 체크가 되지 않는것을 확인할수 있다.\n",
    "- 적극적으로 파이썬 어노테이션을 활용하기 위해선 파이썬의 mypy 모듈을 이용한다.\n",
    "- mypy 모듈을 설치후 사용해본다"
   ]
  },
  {
   "cell_type": "code",
   "execution_count": 8,
   "metadata": {},
   "outputs": [
    {
     "name": "stdout",
     "output_type": "stream",
     "text": [
      "6.4\n"
     ]
    }
   ],
   "source": [
    "# 예시1\n",
    "def add(a: int, b: int) -> int: \n",
    "    return a+b\n",
    "\n",
    "result = add(3, 3.4)\n",
    "print(result)  # 6.4 출력"
   ]
  },
  {
   "cell_type": "markdown",
   "metadata": {},
   "source": [
    "- 주피터 파일에서 mypy 모듈을 이용하는것을 찾지 못하여 .py 로 test를 진행하며 위코드를 mypy_test.py 파일으로 진행\n",
    "- test를 진행한 결과는 다음과 같다"
   ]
  },
  {
   "cell_type": "markdown",
   "metadata": {},
   "source": [
    "![nn](./image/mypy_debug_error.png)"
   ]
  },
  {
   "cell_type": "markdown",
   "metadata": {},
   "source": [
    "- 예시1 에서 add(3, 4)로 int형으로 변경하여 test를 진행\n",
    "- test를 진행한 결과는 다음과 같다."
   ]
  },
  {
   "cell_type": "markdown",
   "metadata": {},
   "source": [
    "![nn](./image/mypy_debug_success.png)"
   ]
  },
  {
   "cell_type": "markdown",
   "metadata": {},
   "source": [
    "### 3. mypy 설정\n",
    "- mypy 설정은 커맨드에 옵션을 넘길수도 있고, 설정 파일을 이용할 수도 있다.\n",
    "- mypy를 프로젝트에 통합해서 사용하는 경우, 매번 커맨드에 옵션을 넘기는 것 보다 설정 파일을 이용하는 편이 편리."
   ]
  },
  {
   "cell_type": "markdown",
   "metadata": {},
   "source": [
    "![nn](./image/mypy_ini_file.png)"
   ]
  },
  {
   "cell_type": "markdown",
   "metadata": {},
   "source": [
    "- 설정 파일 mypy.ini 을 최상위 디렉토리에 두고 설정을 위와 같이 한다.\n",
    "- 위의 사진처럼 ignore_errors = True 놓고 테스트\n",
    "- 예시1 코드를 검사하면 아래와 같이 출력된다."
   ]
  },
  {
   "cell_type": "markdown",
   "metadata": {},
   "source": [
    "![nn](./image/mypy_debug_success.png)"
   ]
  },
  {
   "cell_type": "code",
   "execution_count": null,
   "metadata": {},
   "outputs": [],
   "source": []
  }
 ],
 "metadata": {
  "kernelspec": {
   "display_name": "Python 3.10.2 64-bit",
   "language": "python",
   "name": "python3"
  },
  "language_info": {
   "codemirror_mode": {
    "name": "ipython",
    "version": 3
   },
   "file_extension": ".py",
   "mimetype": "text/x-python",
   "name": "python",
   "nbconvert_exporter": "python",
   "pygments_lexer": "ipython3",
   "version": "3.10.2"
  },
  "orig_nbformat": 4,
  "vscode": {
   "interpreter": {
    "hash": "c19fa61d258bb2b35aae2ada233c33e2817c1ce895aa48acba720c6bf7cbe3cb"
   }
  }
 },
 "nbformat": 4,
 "nbformat_minor": 2
}
